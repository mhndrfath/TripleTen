{
 "cells": [
  {
   "cell_type": "markdown",
   "metadata": {},
   "source": [
    "# Integrated Project 2 - Gold Extraction Model"
   ]
  },
  {
   "cell_type": "markdown",
   "metadata": {},
   "source": [
    "## Project Description\n",
    "\n",
    "The data you need is stored in three files:\n",
    "- gold_recovery_train.csv\n",
    "- gold_recovery_test.csv\n",
    "- gold_recovery_full.csv\n",
    "\n",
    "This data is indexed according to the date and time it was obtained (date feature). Regarding time, parameters that are located next to each other are generally similar.\n",
    "Some parameters are not available because their measurements and/or calculations were carried out much later. That is why, some features that are in the training set may not be present in the test set. The test set also does not contain targets.\n",
    "The source dataset contains the training and test sets with all their features.\n",
    "\n",
    "### Data Description\n",
    "\n",
    "Technological Process:\n",
    "- `Rougher feed` — raw material for the flotation process\n",
    "- `Rougher additions` (or reagent additions) — reagents for flotation: Xanthate, Sulphate, Depressant\n",
    "- `Xanthate` — flotation activator or activator\n",
    "- `Sulphate` — sodium sulfide, specifically for this process\n",
    "- `Depressant` — sodium silicate\n",
    "- `Rougher process` — flotation\n",
    "- `Rougher tails` — product residue\n",
    "- `Float banks` — flotation units\n",
    "- `Cleaner process` — purification\n",
    "- `Rougher Au` — a coarser gold concentrate\n",
    "- `Final Au` — final gold concentrate\n",
    "- Parameters of the Available Stages\n",
    "- `air amount` — air volume\n",
    "- `fluid levels`\n",
    "- `feed size` — the size of the feed particles\n",
    "- `feed rate`\n",
    "\n",
    "### Feature Naming\n",
    "\n",
    "Here is how to give names to existing features:\n",
    "\n",
    "[stage].[parameter_type].[parameter_name]\n",
    "\n",
    "Example: rougher.input.feed_ag\n",
    "\n",
    "Possible values for [stage]:\n",
    "- `rougher — flotation\n",
    "- `primary_cleaner — first cleanup\n",
    "- `secondary_cleaner — secondary cleaning\n",
    "- `final — final characteristic\n",
    "\n",
    "Possible values for [parameter_type]:\n",
    "- `input` — raw material parameters\n",
    "- `output` — product parameters\n",
    "- `state` — parameters indicating the characteristics of the current stage\n",
    "- `calculation` — calculation of characteristics\n",
    "\n",
    "### Project Plan\n",
    "\n",
    "By obtaining the data that will be used in this project, there are several steps that will be taken to calculate the metal concentrate value using the best model and error calculations based on symmetric errors as required by the company, there are several plans as follows:\n",
    "- Initialization\n",
    "- Data Overview\n",
    "    - Data checking is carried out first so that the data visualization is clear and to check if there are duplicate values, missing values or other problems\n",
    "- Data Pre-Processing\n",
    "    - The process of filling in missing values is done by filling in whatever value is needed\n",
    "    - Data that has passed data pre-processing is final data that is safe to use in the model training process\n",
    "- Data Analysis \n",
    "    - Analysis of the features contained in the data is necessary so that when modeling, the data used does not experience errors\n",
    "- Modelling\n",
    "    - Model training using several models is used to find the best model to produce a value\n",
    "- General conclusion at the end of the process which aims to summarize the entire process from start to finish"
   ]
  },
  {
   "cell_type": "markdown",
   "metadata": {},
   "source": [
    "## Initialization"
   ]
  },
  {
   "cell_type": "code",
   "execution_count": 1,
   "metadata": {},
   "outputs": [],
   "source": [
    "# import general and machine learning library\n",
    "\n",
    "import pandas as pd\n",
    "import numpy as np\n",
    "from matplotlib import pyplot as plt\n",
    "import seaborn as sns\n",
    "\n",
    "from sklearn.ensemble import RandomForestRegressor\n",
    "from sklearn.tree import DecisionTreeRegressor\n",
    "from sklearn.linear_model import LinearRegression\n",
    "from sklearn.model_selection import KFold\n",
    "\n",
    "from sklearn.model_selection import train_test_split\n",
    "from sklearn.preprocessing import StandardScaler\n",
    "from sklearn.metrics import mean_squared_error\n",
    "\n",
    "import warnings\n",
    "pd.set_option('display.max.columns', 100)\n",
    "warnings.filterwarnings('ignore')"
   ]
  },
  {
   "cell_type": "markdown",
   "metadata": {},
   "source": [
    "## Data Overview"
   ]
  },
  {
   "cell_type": "code",
   "execution_count": 2,
   "metadata": {},
   "outputs": [],
   "source": [
    "data_train = pd.read_csv('gold_recovery_train.csv', parse_dates=True)\n",
    "data_test = pd.read_csv('gold_recovery_test.csv', parse_dates=True)\n",
    "data_full = pd.read_csv('gold_recovery_full.csv', parse_dates=True)"
   ]
  },
  {
   "cell_type": "code",
   "execution_count": 3,
   "metadata": {},
   "outputs": [
    {
     "data": {
      "text/plain": [
       "((16860, 87), (5856, 53), (22716, 87))"
      ]
     },
     "execution_count": 3,
     "metadata": {},
     "output_type": "execute_result"
    }
   ],
   "source": [
    "data_train.shape, data_test.shape, data_full.shape"
   ]
  },
  {
   "cell_type": "markdown",
   "metadata": {},
   "source": [
    "**Findings :**\n",
    "\n",
    "In preparing the data, it was discovered that the test data did not have full columns like the training data or full data, therefore it will be analyzed later to determine whether the test data will be added or the training data will have columns reduced to determine a model."
   ]
  },
  {
   "cell_type": "markdown",
   "metadata": {},
   "source": [
    "## Data Pre-Processing"
   ]
  },
  {
   "cell_type": "markdown",
   "metadata": {},
   "source": [
    "### MAE Checking\n",
    "\n",
    "include :\n",
    "- Check the gold\n",
    "- Count (rougher.output.recovery)\n",
    "- Find MAE"
   ]
  },
  {
   "cell_type": "code",
   "execution_count": 4,
   "metadata": {},
   "outputs": [],
   "source": [
    "data_train_mae = data_train.copy()"
   ]
  },
  {
   "cell_type": "code",
   "execution_count": 5,
   "metadata": {},
   "outputs": [],
   "source": [
    "data_train_mae['numerator'] = data_train_mae['rougher.output.concentrate_au']*(data_train_mae['rougher.input.feed_au']-data_train_mae['rougher.output.tail_au'])\n",
    "data_train_mae['denumerator'] = data_train_mae['rougher.input.feed_au']*(data_train_mae['rougher.output.concentrate_au']-data_train_mae['rougher.output.tail_au'])"
   ]
  },
  {
   "cell_type": "code",
   "execution_count": 6,
   "metadata": {},
   "outputs": [
    {
     "data": {
      "text/plain": [
       "numerator      2250\n",
       "denumerator    2250\n",
       "dtype: int64"
      ]
     },
     "execution_count": 6,
     "metadata": {},
     "output_type": "execute_result"
    }
   ],
   "source": [
    "data_train_mae[['numerator', 'denumerator']].isnull().sum()"
   ]
  },
  {
   "cell_type": "code",
   "execution_count": 7,
   "metadata": {},
   "outputs": [],
   "source": [
    "data_train_mae['numerator'] = data_train_mae['numerator'].fillna(0)\n",
    "data_train_mae['denumerator'] = data_train_mae['denumerator'].fillna(1)"
   ]
  },
  {
   "cell_type": "code",
   "execution_count": 8,
   "metadata": {},
   "outputs": [],
   "source": [
    "data_train_mae['mae'] = data_train_mae['numerator'] / data_train_mae['denumerator'] * 100"
   ]
  },
  {
   "cell_type": "code",
   "execution_count": 9,
   "metadata": {},
   "outputs": [
    {
     "name": "stdout",
     "output_type": "stream",
     "text": [
      "MAE between measured value and feature is 9.303415616264301e-15\n"
     ]
    }
   ],
   "source": [
    "print('MAE between measured value and feature is', (data_train_mae['mae'] - data_train_mae['rougher.output.recovery']).abs().mean())"
   ]
  },
  {
   "cell_type": "markdown",
   "metadata": {},
   "source": [
    "**Findings :**\n",
    "- To get a rough concentrate, a comparison is needed between the gold concentrate and the tail, so a fraction and denominator are needed which have been divided into 'numerator' and 'denumerator' data.\n",
    "- Missing values in the two data that have been separated will respectively be replaced with values 0 and 1, to make calculations easier\n",
    "- After the calculation is carried out to get the rough concentrate value, a comparison will be made with the previously existing rough concentrate results, in other words the MAE value will be looked for\n",
    "- The MAE value or simply the error that occurs between the value in the calculation and the existing value is very small, namely 9.303415616264301e-15, where this value will not be a problem for further analysis"
   ]
  },
  {
   "cell_type": "markdown",
   "metadata": {},
   "source": [
    "### Feature Analysis\n",
    "- Not included in Test Data\n",
    "- Type of parameter"
   ]
  },
  {
   "cell_type": "code",
   "execution_count": 10,
   "metadata": {
    "scrolled": true
   },
   "outputs": [
    {
     "data": {
      "text/plain": [
       "{'final.output.concentrate_ag',\n",
       " 'final.output.concentrate_au',\n",
       " 'final.output.concentrate_pb',\n",
       " 'final.output.concentrate_sol',\n",
       " 'final.output.recovery',\n",
       " 'final.output.tail_ag',\n",
       " 'final.output.tail_au',\n",
       " 'final.output.tail_pb',\n",
       " 'final.output.tail_sol',\n",
       " 'primary_cleaner.output.concentrate_ag',\n",
       " 'primary_cleaner.output.concentrate_au',\n",
       " 'primary_cleaner.output.concentrate_pb',\n",
       " 'primary_cleaner.output.concentrate_sol',\n",
       " 'primary_cleaner.output.tail_ag',\n",
       " 'primary_cleaner.output.tail_au',\n",
       " 'primary_cleaner.output.tail_pb',\n",
       " 'primary_cleaner.output.tail_sol',\n",
       " 'rougher.calculation.au_pb_ratio',\n",
       " 'rougher.calculation.floatbank10_sulfate_to_au_feed',\n",
       " 'rougher.calculation.floatbank11_sulfate_to_au_feed',\n",
       " 'rougher.calculation.sulfate_to_au_concentrate',\n",
       " 'rougher.output.concentrate_ag',\n",
       " 'rougher.output.concentrate_au',\n",
       " 'rougher.output.concentrate_pb',\n",
       " 'rougher.output.concentrate_sol',\n",
       " 'rougher.output.recovery',\n",
       " 'rougher.output.tail_ag',\n",
       " 'rougher.output.tail_au',\n",
       " 'rougher.output.tail_pb',\n",
       " 'rougher.output.tail_sol',\n",
       " 'secondary_cleaner.output.tail_ag',\n",
       " 'secondary_cleaner.output.tail_au',\n",
       " 'secondary_cleaner.output.tail_pb',\n",
       " 'secondary_cleaner.output.tail_sol'}"
      ]
     },
     "execution_count": 10,
     "metadata": {},
     "output_type": "execute_result"
    }
   ],
   "source": [
    "missed_columns = set(list(data_train.columns.values)) - set(list(data_test.columns.values))\n",
    "missed_columns"
   ]
  },
  {
   "cell_type": "code",
   "execution_count": 11,
   "metadata": {},
   "outputs": [
    {
     "data": {
      "text/plain": [
       "rougher.calculation.au_pb_ratio                       float64\n",
       "primary_cleaner.output.tail_au                        float64\n",
       "primary_cleaner.output.concentrate_pb                 float64\n",
       "final.output.concentrate_au                           float64\n",
       "rougher.output.tail_pb                                float64\n",
       "rougher.output.concentrate_sol                        float64\n",
       "final.output.tail_ag                                  float64\n",
       "rougher.output.tail_ag                                float64\n",
       "rougher.calculation.floatbank10_sulfate_to_au_feed    float64\n",
       "secondary_cleaner.output.tail_pb                      float64\n",
       "rougher.output.concentrate_ag                         float64\n",
       "primary_cleaner.output.tail_sol                       float64\n",
       "rougher.calculation.sulfate_to_au_concentrate         float64\n",
       "primary_cleaner.output.concentrate_sol                float64\n",
       "final.output.concentrate_sol                          float64\n",
       "secondary_cleaner.output.tail_au                      float64\n",
       "final.output.concentrate_ag                           float64\n",
       "secondary_cleaner.output.tail_ag                      float64\n",
       "rougher.output.concentrate_pb                         float64\n",
       "rougher.calculation.floatbank11_sulfate_to_au_feed    float64\n",
       "rougher.output.tail_au                                float64\n",
       "primary_cleaner.output.tail_ag                        float64\n",
       "secondary_cleaner.output.tail_sol                     float64\n",
       "primary_cleaner.output.concentrate_ag                 float64\n",
       "final.output.concentrate_pb                           float64\n",
       "primary_cleaner.output.concentrate_au                 float64\n",
       "final.output.recovery                                 float64\n",
       "final.output.tail_au                                  float64\n",
       "rougher.output.tail_sol                               float64\n",
       "primary_cleaner.output.tail_pb                        float64\n",
       "rougher.output.recovery                               float64\n",
       "rougher.output.concentrate_au                         float64\n",
       "final.output.tail_pb                                  float64\n",
       "final.output.tail_sol                                 float64\n",
       "dtype: object"
      ]
     },
     "execution_count": 11,
     "metadata": {},
     "output_type": "execute_result"
    }
   ],
   "source": [
    "data_full[missed_columns].dtypes"
   ]
  },
  {
   "cell_type": "code",
   "execution_count": 12,
   "metadata": {},
   "outputs": [
    {
     "data": {
      "text/plain": [
       "(5856, 87)"
      ]
     },
     "execution_count": 12,
     "metadata": {},
     "output_type": "execute_result"
    }
   ],
   "source": [
    "data_test_full = data_full[(data_full['date'].isin(data_test['date']))].reset_index(drop=True)\n",
    "data_test_full.shape"
   ]
  },
  {
   "cell_type": "markdown",
   "metadata": {},
   "source": [
    "**Findings :**\n",
    "\n",
    "- Missing columns in the test data column include the 'rougher.input.recovery' and 'final.output.recovery' columns, where these 2 columns are parameters that will be used as calculations in this project\n",
    "- Create test data that uses all 87 columns in accordance with full data as data that will be used for further analysis needs"
   ]
  },
  {
   "cell_type": "markdown",
   "metadata": {},
   "source": [
    "### Checking Missing Values"
   ]
  },
  {
   "cell_type": "code",
   "execution_count": 13,
   "metadata": {},
   "outputs": [
    {
     "data": {
      "text/plain": [
       "rougher.output.recovery              2573\n",
       "rougher.output.tail_ag               2250\n",
       "rougher.output.tail_sol              2249\n",
       "rougher.output.tail_au               2249\n",
       "secondary_cleaner.output.tail_sol    1986\n",
       "dtype: int64"
      ]
     },
     "execution_count": 13,
     "metadata": {},
     "output_type": "execute_result"
    }
   ],
   "source": [
    "data_train.isnull().sum().sort_values(ascending=False).head()"
   ]
  },
  {
   "cell_type": "code",
   "execution_count": 14,
   "metadata": {},
   "outputs": [
    {
     "data": {
      "text/plain": [
       "rougher.input.floatbank11_xanthate    353\n",
       "primary_cleaner.input.sulfate         302\n",
       "primary_cleaner.input.depressant      284\n",
       "rougher.input.floatbank10_sulfate     257\n",
       "primary_cleaner.input.xanthate        166\n",
       "dtype: int64"
      ]
     },
     "execution_count": 14,
     "metadata": {},
     "output_type": "execute_result"
    }
   ],
   "source": [
    "data_test.isnull().sum().sort_values(ascending=False).head()"
   ]
  },
  {
   "cell_type": "code",
   "execution_count": 15,
   "metadata": {},
   "outputs": [
    {
     "data": {
      "text/plain": [
       "rougher.output.recovery               3119\n",
       "rougher.output.tail_ag                2737\n",
       "rougher.output.tail_au                2736\n",
       "rougher.output.tail_sol               2736\n",
       "rougher.input.floatbank11_xanthate    2257\n",
       "dtype: int64"
      ]
     },
     "execution_count": 15,
     "metadata": {},
     "output_type": "execute_result"
    }
   ],
   "source": [
    "data_full.isnull().sum().sort_values(ascending=False).head()"
   ]
  },
  {
   "cell_type": "code",
   "execution_count": 16,
   "metadata": {},
   "outputs": [
    {
     "data": {
      "text/plain": [
       "rougher.output.recovery    546\n",
       "rougher.output.tail_ag     487\n",
       "rougher.output.tail_au     487\n",
       "rougher.output.tail_sol    487\n",
       "final.output.recovery      442\n",
       "dtype: int64"
      ]
     },
     "execution_count": 16,
     "metadata": {},
     "output_type": "execute_result"
    }
   ],
   "source": [
    "data_test_full.isnull().sum().sort_values(ascending=False).head()"
   ]
  },
  {
   "cell_type": "markdown",
   "metadata": {},
   "source": [
    "All data has missing values, therefore several ways will be taken to overcome these missing values in the next analysis"
   ]
  },
  {
   "cell_type": "markdown",
   "metadata": {},
   "source": [
    "## Data Analysis"
   ]
  },
  {
   "cell_type": "markdown",
   "metadata": {},
   "source": [
    "### Metal Concentration Progress"
   ]
  },
  {
   "cell_type": "code",
   "execution_count": 17,
   "metadata": {},
   "outputs": [],
   "source": [
    "steps_progress = [\n",
    "    'rougher.input.feed_{}',\n",
    "    'rougher.output.concentrate_{}',\n",
    "    'primary_cleaner.output.concentrate_{}',\n",
    "    'final.output.concentrate_{}'\n",
    "]\n",
    "\n",
    "def concentrate_progress(component):\n",
    "    steps = [s.format(component) for s in steps_progress]\n",
    "    for step in steps:\n",
    "        data_full[step].hist(alpha=0.5, bins=25)\n",
    "    plt.legend(steps)"
   ]
  },
  {
   "cell_type": "code",
   "execution_count": 18,
   "metadata": {},
   "outputs": [
    {
     "data": {
      "text/plain": [
       "Text(0.5, 1.0, 'Silver')"
      ]
     },
     "execution_count": 18,
     "metadata": {},
     "output_type": "execute_result"
    },
    {
     "data": {
      "image/png": "[encoded data removed]",
      "text/plain": [
       "<Figure size 432x288 with 1 Axes>"
      ]
     },
     "metadata": {
      "needs_background": "light"
     },
     "output_type": "display_data"
    }
   ],
   "source": [
    "concentrate_progress('au')\n",
    "plt.title('Silver')"
   ]
  },
  {
   "cell_type": "code",
   "execution_count": 19,
   "metadata": {},
   "outputs": [
    {
     "data": {
      "text/plain": [
       "Text(0.5, 1.0, 'Gold')"
      ]
     },
     "execution_count": 19,
     "metadata": {},
     "output_type": "execute_result"
    },
    {
     "data": {
      "image/png": "[encoded data removed]",
      "text/plain": [
       "<Figure size 432x288 with 1 Axes>"
      ]
     },
     "metadata": {
      "needs_background": "light"
     },
     "output_type": "display_data"
    }
   ],
   "source": [
    "concentrate_progress('ag')\n",
    "plt.title('Gold')"
   ]
  },
  {
   "cell_type": "code",
   "execution_count": 20,
   "metadata": {},
   "outputs": [
    {
     "data": {
      "text/plain": [
       "Text(0.5, 1.0, 'Lead')"
      ]
     },
     "execution_count": 20,
     "metadata": {},
     "output_type": "execute_result"
    },
    {
     "data": {
      "image/png": "[encoded data removed]",
      "text/plain": [
       "<Figure size 432x288 with 1 Axes>"
      ]
     },
     "metadata": {
      "needs_background": "light"
     },
     "output_type": "display_data"
    }
   ],
   "source": [
    "concentrate_progress('pb')\n",
    "plt.title('Lead')"
   ]
  },
  {
   "cell_type": "markdown",
   "metadata": {},
   "source": [
    "**Findings :**\n",
    "\n",
    "- Silver metal has a gradual process which starts with a mixture of ore with a low concentration level, then after the flotation process produces a higher concentration and finally the final concentrate after refining produces the highest concentration level compared to before.\n",
    "- In contrast to gold metal, where the metal in its initial state is still a mixture of ores, has a higher concentration level compared to the final concentrate which has gone through 2 refining times.\n",
    "- For lead metal, the concentration level in the final concentrate is not too different from the results before or after refining, although it is quite different from the ore mixture"
   ]
  },
  {
   "cell_type": "markdown",
   "metadata": {},
   "source": [
    "### Comparison of Particle Distribution between Training and Test Data"
   ]
  },
  {
   "cell_type": "code",
   "execution_count": 21,
   "metadata": {},
   "outputs": [
    {
     "data": {
      "text/plain": [
       "<AxesSubplot:ylabel='Density'>"
      ]
     },
     "execution_count": 21,
     "metadata": {},
     "output_type": "execute_result"
    },
    {
     "data": {
      "image/png": "[encoded data removed]",
      "text/plain": [
       "<Figure size 432x288 with 1 Axes>"
      ]
     },
     "metadata": {
      "needs_background": "light"
     },
     "output_type": "display_data"
    }
   ],
   "source": [
    "data_train['rougher.input.feed_size'].plot.kde()\n",
    "data_test['rougher.input.feed_size'].plot.kde()"
   ]
  },
  {
   "cell_type": "code",
   "execution_count": 22,
   "metadata": {},
   "outputs": [],
   "source": [
    "def outlier(series):\n",
    "    return series[series.between(series.quantile(0.01), series.quantile(0.99))]\n",
    "\n",
    "def compare_train_test(feature):\n",
    "    outlier(data_train[feature]).plot.kde()\n",
    "    outlier(data_test[feature]).plot.kde()\n",
    "    plt.legend(['train', 'test'])"
   ]
  },
  {
   "cell_type": "code",
   "execution_count": 23,
   "metadata": {},
   "outputs": [
    {
     "data": {
      "image/png": "[encoded data removed]",
      "text/plain": [
       "<Figure size 432x288 with 1 Axes>"
      ]
     },
     "metadata": {
      "needs_background": "light"
     },
     "output_type": "display_data"
    }
   ],
   "source": [
    "compare_train_test('rougher.input.feed_size')"
   ]
  },
  {
   "cell_type": "markdown",
   "metadata": {},
   "source": [
    "**Findings :**\n",
    "\n",
    "- Outliers contained in the data will be removed, such as missing values, to make it look more realistic\n",
    "- After eliminating outliers, the graph formed shows a fairly equal size comparison between the training data and the test data\n",
    "- Even before removing outliers, the graph formed is not too different from after removing outliers, so there is no significant difference"
   ]
  },
  {
   "cell_type": "markdown",
   "metadata": {},
   "source": [
    "### Consider Total Concentration of all Substances"
   ]
  },
  {
   "cell_type": "code",
   "execution_count": 24,
   "metadata": {},
   "outputs": [
    {
     "data": {
      "text/plain": [
       "<AxesSubplot:>"
      ]
     },
     "execution_count": 24,
     "metadata": {},
     "output_type": "execute_result"
    },
    {
     "data": {
      "image/png": "[encoded data removed]",
      "text/plain": [
       "<Figure size 432x288 with 1 Axes>"
      ]
     },
     "metadata": {
      "needs_background": "light"
     },
     "output_type": "display_data"
    }
   ],
   "source": [
    "input_concentrate = [\n",
    "    'rougher.input.feed_au',\n",
    "    'rougher.input.feed_ag',\n",
    "    'rougher.input.feed_pb',\n",
    "    'rougher.input.feed_sol'\n",
    "]\n",
    "\n",
    "data_full[input_concentrate].sum(1).hist(bins=25)"
   ]
  },
  {
   "cell_type": "code",
   "execution_count": 25,
   "metadata": {},
   "outputs": [
    {
     "data": {
      "text/plain": [
       "<AxesSubplot:>"
      ]
     },
     "execution_count": 25,
     "metadata": {},
     "output_type": "execute_result"
    },
    {
     "data": {
      "image/png": "[encoded data removed]",
      "text/plain": [
       "<Figure size 432x288 with 1 Axes>"
      ]
     },
     "metadata": {
      "needs_background": "light"
     },
     "output_type": "display_data"
    }
   ],
   "source": [
    "sns.boxplot(data_full[input_concentrate].sum(1))"
   ]
  },
  {
   "cell_type": "code",
   "execution_count": 26,
   "metadata": {},
   "outputs": [
    {
     "data": {
      "text/plain": [
       "<AxesSubplot:>"
      ]
     },
     "execution_count": 26,
     "metadata": {},
     "output_type": "execute_result"
    },
    {
     "data": {
      "image/png": "[encoded data removed]",
      "text/plain": [
       "<Figure size 432x288 with 1 Axes>"
      ]
     },
     "metadata": {
      "needs_background": "light"
     },
     "output_type": "display_data"
    }
   ],
   "source": [
    "output_concentrate = [\n",
    "    'rougher.output.concentrate_au',\n",
    "    'rougher.output.concentrate_ag',\n",
    "    'rougher.output.concentrate_pb',\n",
    "    'rougher.output.concentrate_sol'\n",
    "]\n",
    "\n",
    "data_full[output_concentrate].sum(1).hist(bins=25)"
   ]
  },
  {
   "cell_type": "code",
   "execution_count": 27,
   "metadata": {},
   "outputs": [
    {
     "data": {
      "text/plain": [
       "<AxesSubplot:>"
      ]
     },
     "execution_count": 27,
     "metadata": {},
     "output_type": "execute_result"
    },
    {
     "data": {
      "image/png": "[encoded data removed]",
      "text/plain": [
       "<Figure size 432x288 with 1 Axes>"
      ]
     },
     "metadata": {
      "needs_background": "light"
     },
     "output_type": "display_data"
    }
   ],
   "source": [
    "final_concentrate = [\n",
    "    'final.output.concentrate_au',\n",
    "    'final.output.concentrate_ag',\n",
    "    'final.output.concentrate_pb',\n",
    "    'final.output.concentrate_sol'\n",
    "]\n",
    "\n",
    "data_full[final_concentrate].sum(1).hist(bins=25)"
   ]
  },
  {
   "cell_type": "code",
   "execution_count": 28,
   "metadata": {},
   "outputs": [
    {
     "name": "stdout",
     "output_type": "stream",
     "text": [
      "(14601, 87)\n",
      "(5490, 53)\n"
     ]
    }
   ],
   "source": [
    "divide = 0.1\n",
    "\n",
    "data_train = data_train[data_train[input_concentrate].sum(1)>divide]\n",
    "data_train = data_train[data_train[output_concentrate].sum(1)>divide]\n",
    "data_train = data_train[data_train[final_concentrate].sum(1)>divide]\n",
    "\n",
    "data_test_fix = data_test[data_test_full[input_concentrate].sum(1)>divide]\n",
    "data_test_fix = data_test[data_test_full[output_concentrate].sum(1)>divide]\n",
    "data_test_fix = data_test[data_test_full[final_concentrate].sum(1)>divide]\n",
    "\n",
    "print(data_train.shape)\n",
    "print(data_test_fix.shape)"
   ]
  },
  {
   "cell_type": "markdown",
   "metadata": {},
   "source": [
    "**Findings :**\n",
    "\n",
    "- Missing values greatly affect outliers as shown in the graph and boxplot\n",
    "- For the mixture of initial ore and coarse concentrate, the average concentration level is above 40, while for the final concentrate, the average value is above 60.\n",
    "- To overcome missing values, constraints will be used to reduce them so that in subsequent model analysis, it can look more realistic"
   ]
  },
  {
   "cell_type": "markdown",
   "metadata": {},
   "source": [
    "### Handle Missing Values"
   ]
  },
  {
   "cell_type": "code",
   "execution_count": 29,
   "metadata": {},
   "outputs": [],
   "source": [
    "columns_fix = data_test.columns.values.tolist()\n",
    "columns_fix.append('rougher.output.recovery')\n",
    "columns_fix.append('final.output.recovery')"
   ]
  },
  {
   "cell_type": "code",
   "execution_count": 30,
   "metadata": {},
   "outputs": [],
   "source": [
    "data_train_final = data_train[columns_fix]"
   ]
  },
  {
   "cell_type": "code",
   "execution_count": 31,
   "metadata": {},
   "outputs": [],
   "source": [
    "data_train_final = data_train_final[data_train_final['rougher.output.recovery'].notnull()].reset_index(drop=True)\n",
    "data_train_final = data_train_final[data_train_final['final.output.recovery'].notnull()].reset_index(drop=True)"
   ]
  },
  {
   "cell_type": "code",
   "execution_count": 32,
   "metadata": {},
   "outputs": [],
   "source": [
    "data_full_final = pd.concat([data_train_final, data_test])"
   ]
  },
  {
   "cell_type": "code",
   "execution_count": 33,
   "metadata": {},
   "outputs": [
    {
     "data": {
      "text/plain": [
       "((13789, 55), (19645, 55))"
      ]
     },
     "execution_count": 33,
     "metadata": {},
     "output_type": "execute_result"
    }
   ],
   "source": [
    "data_train_final.shape, data_full_final.shape"
   ]
  },
  {
   "cell_type": "code",
   "execution_count": 34,
   "metadata": {},
   "outputs": [
    {
     "data": {
      "text/plain": [
       "final.output.recovery                         5856\n",
       "rougher.output.recovery                       5856\n",
       "rougher.input.floatbank11_xanthate             748\n",
       "rougher.state.floatbank10_e_air                390\n",
       "primary_cleaner.input.sulfate                  321\n",
       "primary_cleaner.input.depressant               310\n",
       "rougher.input.floatbank10_sulfate              286\n",
       "primary_cleaner.input.xanthate                 262\n",
       "secondary_cleaner.state.floatbank2_a_air       233\n",
       "rougher.input.feed_size                        161\n",
       "rougher.input.feed_sol                         142\n",
       "rougher.input.floatbank10_xanthate             130\n",
       "rougher.input.feed_pb                          116\n",
       "rougher.input.floatbank11_sulfate               83\n",
       "rougher.input.feed_rate                         48\n",
       "secondary_cleaner.state.floatbank2_b_air        42\n",
       "secondary_cleaner.state.floatbank3_a_air        38\n",
       "secondary_cleaner.state.floatbank4_a_air        20\n",
       "primary_cleaner.state.floatbank8_b_air          20\n",
       "primary_cleaner.state.floatbank8_a_air          20\n",
       "primary_cleaner.state.floatbank8_d_air          19\n",
       "rougher.state.floatbank10_b_air                 18\n",
       "rougher.state.floatbank10_a_air                 18\n",
       "rougher.state.floatbank10_c_air                 18\n",
       "primary_cleaner.state.floatbank8_c_air          18\n",
       "rougher.state.floatbank10_a_level               17\n",
       "secondary_cleaner.state.floatbank3_a_level      17\n",
       "secondary_cleaner.state.floatbank6_a_level      17\n",
       "secondary_cleaner.state.floatbank6_a_air        17\n",
       "secondary_cleaner.state.floatbank5_b_level      17\n",
       "secondary_cleaner.state.floatbank5_b_air        17\n",
       "secondary_cleaner.state.floatbank5_a_level      17\n",
       "secondary_cleaner.state.floatbank5_a_air        17\n",
       "secondary_cleaner.state.floatbank4_b_level      17\n",
       "secondary_cleaner.state.floatbank4_b_air        17\n",
       "secondary_cleaner.state.floatbank4_a_level      17\n",
       "primary_cleaner.state.floatbank8_a_level        17\n",
       "secondary_cleaner.state.floatbank3_b_level      17\n",
       "secondary_cleaner.state.floatbank3_b_air        17\n",
       "primary_cleaner.state.floatbank8_b_level        17\n",
       "secondary_cleaner.state.floatbank2_b_level      17\n",
       "secondary_cleaner.state.floatbank2_a_level      17\n",
       "primary_cleaner.state.floatbank8_c_level        17\n",
       "rougher.state.floatbank10_f_air                 17\n",
       "primary_cleaner.state.floatbank8_d_level        17\n",
       "rougher.state.floatbank10_d_air                 17\n",
       "rougher.state.floatbank10_c_level               17\n",
       "rougher.state.floatbank10_b_level               17\n",
       "rougher.input.feed_au                           16\n",
       "rougher.state.floatbank10_f_level               16\n",
       "rougher.state.floatbank10_e_level               16\n",
       "rougher.state.floatbank10_d_level               16\n",
       "rougher.input.feed_ag                           16\n",
       "primary_cleaner.input.feed_size                  0\n",
       "date                                             0\n",
       "dtype: int64"
      ]
     },
     "execution_count": 34,
     "metadata": {},
     "output_type": "execute_result"
    }
   ],
   "source": [
    "data_full_final.isnull().sum().sort_values(ascending=False)"
   ]
  },
  {
   "cell_type": "markdown",
   "metadata": {},
   "source": [
    "**Findings :**\n",
    "\n",
    "- Training data will use the same number of columns as test data, plus 2 columns, namely 'rougher.output.recovery' and 'final.output.recovery'\n",
    "- New full data is created by adding up the training data and test data, where the missing values in the 2 columns above will no longer be used\n",
    "- With a new dataset, the number of rows is reduced considering that missing values are no longer used"
   ]
  },
  {
   "cell_type": "markdown",
   "metadata": {},
   "source": [
    "***Function for missing values with median***"
   ]
  },
  {
   "cell_type": "code",
   "execution_count": 35,
   "metadata": {},
   "outputs": [],
   "source": [
    "for column in data_full_final.isnull().sum().sort_values(ascending=False)[2:-2].index:\n",
    "    median_column = data_full_final[column].median()\n",
    "    data_full_final[column] = data_full_final[column].fillna(median_column)"
   ]
  },
  {
   "cell_type": "code",
   "execution_count": 36,
   "metadata": {},
   "outputs": [],
   "source": [
    "data_test_final = data_full_final[data_full_final['rougher.output.recovery'].isnull()]\n",
    "data_test_final = data_test_final.drop(columns=['rougher.output.recovery', 'final.output.recovery'])\n",
    "\n",
    "data_train_final = data_full_final[data_full_final['rougher.output.recovery'].notnull()].reset_index(drop=True)"
   ]
  },
  {
   "cell_type": "code",
   "execution_count": 37,
   "metadata": {},
   "outputs": [
    {
     "data": {
      "text/plain": [
       "((13789, 55), (5856, 53))"
      ]
     },
     "execution_count": 37,
     "metadata": {},
     "output_type": "execute_result"
    }
   ],
   "source": [
    "data_train_final.shape, data_test_final.shape"
   ]
  },
  {
   "cell_type": "markdown",
   "metadata": {},
   "source": [
    "**FIndings :**\n",
    "- The new dataset for testing is created using the new full data and removing the 'rougher.output.recovery' and 'final.output.recovery' columns because these 2 columns will be used as targets in model training\n",
    "- To overcome missing values in several columns in the new training data and test data, the missing values are filled in with the median"
   ]
  },
  {
   "cell_type": "markdown",
   "metadata": {},
   "source": [
    "## Modelling"
   ]
  },
  {
   "cell_type": "markdown",
   "metadata": {},
   "source": [
    "### Function for Final sMAPE"
   ]
  },
  {
   "cell_type": "code",
   "execution_count": 38,
   "metadata": {},
   "outputs": [],
   "source": [
    "features = data_test_final.drop(columns=['date']).columns.values\n",
    "targets = ['rougher.output.recovery', 'final.output.recovery']"
   ]
  },
  {
   "cell_type": "code",
   "execution_count": 39,
   "metadata": {},
   "outputs": [],
   "source": [
    "features_train = data_train_final[features].reset_index(drop=True)\n",
    "target_train = data_train_final[targets].reset_index(drop=True)\n",
    "\n",
    "target_train.columns = [0, 1]"
   ]
  },
  {
   "cell_type": "code",
   "execution_count": 40,
   "metadata": {},
   "outputs": [],
   "source": [
    "features_test = data_test_final[features].reset_index(drop=True)\n",
    "target_test = data_test_full[targets]\n",
    "\n",
    "target_test.columns = [0, 1]"
   ]
  },
  {
   "cell_type": "code",
   "execution_count": 41,
   "metadata": {},
   "outputs": [
    {
     "data": {
      "text/plain": [
       "((13789, 52), (5856, 52))"
      ]
     },
     "execution_count": 41,
     "metadata": {},
     "output_type": "execute_result"
    }
   ],
   "source": [
    "features_train.shape, features_test.shape"
   ]
  },
  {
   "cell_type": "code",
   "execution_count": 42,
   "metadata": {},
   "outputs": [],
   "source": [
    "def sMAPE(y_forecast, y_actual):\n",
    "    error_value = (y_forecast - y_actual).abs()\n",
    "    exact_value = (y_forecast.abs() + y_actual.abs()) / 2\n",
    "    return (error_value / exact_value).mean()*100\n",
    "\n",
    "def end_sMAPE(y_forecast, y_actual):\n",
    "    rougher = sMAPE(y_forecast[0], y_actual[0])\n",
    "    final = sMAPE(y_forecast[1], y_actual[1])\n",
    "    return 0.25*rougher + 0.75*final"
   ]
  },
  {
   "cell_type": "code",
   "execution_count": 43,
   "metadata": {},
   "outputs": [
    {
     "name": "stdout",
     "output_type": "stream",
     "text": [
      "Prediction for Train Data : 9.448962714511023\n"
     ]
    }
   ],
   "source": [
    "train_prediction = target_train.copy()\n",
    "train_prediction[0] = target_train[0].median()\n",
    "train_prediction[1] = target_train[1].median()\n",
    "print('Prediction for Train Data :', end_sMAPE(target_train, train_prediction))"
   ]
  },
  {
   "cell_type": "code",
   "execution_count": 44,
   "metadata": {},
   "outputs": [
    {
     "name": "stdout",
     "output_type": "stream",
     "text": [
      "Prediction for Test Data : 9.625892667445223\n"
     ]
    }
   ],
   "source": [
    "test_prediction = target_test.copy()\n",
    "test_prediction[0] = target_test[0].median()\n",
    "test_prediction[1] = target_test[1].median()\n",
    "print('Prediction for Test Data :', end_sMAPE(target_test, test_prediction))"
   ]
  },
  {
   "cell_type": "markdown",
   "metadata": {},
   "source": [
    "**Findings :**\n",
    "\n",
    "- The prediction error in the training data is 9.448962714511023\n",
    "- Prediction error in testing data is worth 9.625892667445223\n",
    "- There is not much value between training data and test data, although the resulting value can be considered large for an error"
   ]
  },
  {
   "cell_type": "markdown",
   "metadata": {},
   "source": [
    "### Model Evaluated with Cross Validation"
   ]
  },
  {
   "cell_type": "code",
   "execution_count": 45,
   "metadata": {},
   "outputs": [],
   "source": [
    "def score(model, cv=4):\n",
    "    scores = []\n",
    "    \n",
    "    for subtrain, valid in KFold(n_splits=cv).split(features_train):\n",
    "        features_subtrain = features_train.loc[subtrain].reset_index(drop=True)\n",
    "        target_subtrain = target_train.loc[subtrain].reset_index(drop=True)\n",
    "        \n",
    "        features_valid = features_train.loc[valid].reset_index(drop=True)\n",
    "        target_valid = target_train.loc[valid].reset_index(drop=True)\n",
    "        \n",
    "        model.fit(features_subtrain, target_subtrain)\n",
    "        prediction_valid = pd.DataFrame(model.predict(features_valid))\n",
    "        scores.append(end_sMAPE(target_valid, prediction_valid))\n",
    "    \n",
    "    return pd.Series(scores).mean()"
   ]
  },
  {
   "cell_type": "markdown",
   "metadata": {},
   "source": [
    "**Linear Regression**"
   ]
  },
  {
   "cell_type": "code",
   "execution_count": 46,
   "metadata": {},
   "outputs": [
    {
     "data": {
      "text/plain": [
       "10.245510639692792"
      ]
     },
     "execution_count": 46,
     "metadata": {},
     "output_type": "execute_result"
    }
   ],
   "source": [
    "lr = LinearRegression()\n",
    "lr_score = score(lr)\n",
    "lr_score"
   ]
  },
  {
   "cell_type": "markdown",
   "metadata": {},
   "source": [
    "**Decision Tree Regression**"
   ]
  },
  {
   "cell_type": "code",
   "execution_count": 47,
   "metadata": {},
   "outputs": [
    {
     "name": "stdout",
     "output_type": "stream",
     "text": [
      "Best Score for Decision Tree: 10.236557749891972 best_depth: 1\n",
      "Best Score for Decision Tree: 10.027153214115845 best_depth: 2\n",
      "Best Score for Decision Tree: 9.702076755210783 best_depth: 3\n",
      "Best Score for Decision Tree: 9.744153239185234 best_depth: 4\n",
      "Best Score for Decision Tree: 10.083589556220396 best_depth: 5\n"
     ]
    }
   ],
   "source": [
    "for depth in range (1, 6):\n",
    "    dt = DecisionTreeRegressor(random_state=1, max_depth=depth)\n",
    "    dt_score = score(dt)   \n",
    "\n",
    "    print(\"Best Score for Decision Tree:\", dt_score, \"best_depth:\", depth)"
   ]
  },
  {
   "cell_type": "markdown",
   "metadata": {},
   "source": [
    "**Random Forest Regression**"
   ]
  },
  {
   "cell_type": "code",
   "execution_count": 49,
   "metadata": {},
   "outputs": [
    {
     "name": "stdout",
     "output_type": "stream",
     "text": [
      "Best Score for Random Forest: 10.232336610328037 best_depth: 1 best_est: 10\n",
      "Best Score for Random Forest: 9.811943065776434 best_depth: 2 best_est: 10\n",
      "Best Score for Random Forest: 9.429485738771774 best_depth: 3 best_est: 10\n",
      "Best Score for Random Forest: 9.423745040061146 best_depth: 4 best_est: 10\n",
      "Best Score for Random Forest: 9.745623534515136 best_depth: 5 best_est: 10\n",
      "Best Score for Random Forest: 10.208001897847204 best_depth: 1 best_est: 20\n",
      "Best Score for Random Forest: 9.809980338360521 best_depth: 2 best_est: 20\n",
      "Best Score for Random Forest: 9.376189374679385 best_depth: 3 best_est: 20\n",
      "Best Score for Random Forest: 9.357017191155036 best_depth: 4 best_est: 20\n",
      "Best Score for Random Forest: 9.546141839616375 best_depth: 5 best_est: 20\n",
      "Best Score for Random Forest: 10.201606068849328 best_depth: 1 best_est: 30\n",
      "Best Score for Random Forest: 9.792283125099392 best_depth: 2 best_est: 30\n",
      "Best Score for Random Forest: 9.365936467350465 best_depth: 3 best_est: 30\n",
      "Best Score for Random Forest: 9.32601282766173 best_depth: 4 best_est: 30\n",
      "Best Score for Random Forest: 9.445385544413687 best_depth: 5 best_est: 30\n",
      "Best Score for Random Forest: 10.191668285312646 best_depth: 1 best_est: 40\n",
      "Best Score for Random Forest: 9.796342291831934 best_depth: 2 best_est: 40\n",
      "Best Score for Random Forest: 9.36397902105071 best_depth: 3 best_est: 40\n",
      "Best Score for Random Forest: 9.335406815933814 best_depth: 4 best_est: 40\n",
      "Best Score for Random Forest: 9.472414581346296 best_depth: 5 best_est: 40\n",
      "Best Score for Random Forest: 10.186994306360905 best_depth: 1 best_est: 50\n",
      "Best Score for Random Forest: 9.783930063556697 best_depth: 2 best_est: 50\n",
      "Best Score for Random Forest: 9.362271540456213 best_depth: 3 best_est: 50\n",
      "Best Score for Random Forest: 9.333466191956992 best_depth: 4 best_est: 50\n",
      "Best Score for Random Forest: 9.445975683580606 best_depth: 5 best_est: 50\n"
     ]
    }
   ],
   "source": [
    "for est in range(10, 51, 10):\n",
    "    for depth in range (1, 6):\n",
    "        rf = RandomForestRegressor(random_state=1, max_depth=depth, n_estimators=est)\n",
    "        rf_score = score(rf)\n",
    "\n",
    "        print(\"Best Score for Random Forest:\", rf_score, \"best_depth:\", depth, \"best_est:\", est)            "
   ]
  },
  {
   "cell_type": "markdown",
   "metadata": {},
   "source": [
    "**Findings :**\n",
    "\n",
    "- The resulting value in linear regression is 10.245510639692792\n",
    "- The best value produced by decision tree regression is at depth 3 with a value of 9.702076755210783\n",
    "- The best value produced by random forest regression is the 30 depth 4 estimator with a value of 9.32601282766173\n",
    "- The best model to use is random forest regression, considering that this model produces a small error compared to previous predictions"
   ]
  },
  {
   "cell_type": "markdown",
   "metadata": {},
   "source": [
    "### Best Model for Test Sample"
   ]
  },
  {
   "cell_type": "code",
   "execution_count": 52,
   "metadata": {},
   "outputs": [
    {
     "name": "stdout",
     "output_type": "stream",
     "text": [
      "Train Value : 7.07145934718067\n",
      "Test Value : 10.18966809276858\n"
     ]
    }
   ],
   "source": [
    "best_model = RandomForestRegressor(max_depth=4, n_estimators=30, random_state=1)\n",
    "best_model.fit(features_train, target_train)\n",
    "\n",
    "prediction_train = pd.DataFrame(best_model.predict(features_train))\n",
    "prediction_test = pd.DataFrame(best_model.predict(features_test))\n",
    "\n",
    "print('Train Value :', end_sMAPE(target_train, prediction_train))\n",
    "print('Test Value :', end_sMAPE(target_test, prediction_test))"
   ]
  },
  {
   "cell_type": "markdown",
   "metadata": {},
   "source": [
    "## General Conclusion\n",
    "\n",
    "- Columns used in both data, both training data and testing data, must have the same number, same column names, and have no missing values\n",
    "- Missing values in the columns in both data can be replaced by any number or by the median depending on needs\n",
    "- It is also very important to remove outliers to make it easier and to get results that match reality during the analysis and modeling process\n",
    "- In the calculation to find the rough concentrate value, it was found that the calculated value and the actual value were not much different, it could be said that the resulting error was very small, where the number obtained was 9.303415616264301e-15\n",
    "- The process of producing concentrate values for several types of metal produces different graphs\n",
    "- The changes in particles used in the training data and testing data show no different graphs (after removing outlier values), so that the results obtained in the next step can be said to be safe\n",
    "- By taking into account the target scale and predictions, the best model used to calculate sMAPE is the Random Forest Regression model with the conditions, depth=4 n_estimator=30\n",
    "- The results obtained in the regression are worth 10.18966809276858 in the final prediction of the testing data"
   ]
  }
 ],
 "metadata": {
  "kernelspec": {
   "display_name": "Python 3 (ipykernel)",
   "language": "python",
   "name": "python3"
  },
  "language_info": {
   "codemirror_mode": {
    "name": "ipython",
    "version": 3
   },
   "file_extension": ".py",
   "mimetype": "text/x-python",
   "name": "python",
   "nbconvert_exporter": "python",
   "pygments_lexer": "ipython3",
   "version": "3.9.5"
  },
  "toc": {
   "base_numbering": 1,
   "nav_menu": {},
   "number_sections": true,
   "sideBar": true,
   "skip_h1_title": true,
   "title_cell": "Table of Contents",
   "title_sidebar": "Contents",
   "toc_cell": false,
   "toc_position": {},
   "toc_section_display": true,
   "toc_window_display": false
  }
 },
 "nbformat": 4,
 "nbformat_minor": 2
}
