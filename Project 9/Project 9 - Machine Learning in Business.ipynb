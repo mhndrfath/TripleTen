{
 "cells": [
  {
   "cell_type": "markdown",
   "metadata": {},
   "source": [
    "# Project 9 - Prediction of New Locations for OilyGiant Oil Wells"
   ]
  },
  {
   "cell_type": "markdown",
   "metadata": {},
   "source": [
    "## Project Description\n",
    "\n",
    "An oil mining company called OilyGiant needed a way to find a suitable location to dig a new oil well.\n",
    "\n",
    "Here are the steps to choose a new location:\n",
    "- Collect parameters for building oil wells in several selected regions: oil quality and volume of oil reserves;\n",
    "- Create a model that is able to predict the volume of oil reserves in new wells;\n",
    "- Choose the oil well with the highest estimated value;\n",
    "- Select the area with the highest total profit for the selected oil well.\n",
    "\n",
    "There is oil sample data from three regions. The parameters of each oil well in the area are known. The model will be used to help select regions with the highest profit margins. An analysis of potential profits and risks will be carried out using bootstrapping techniques.\n",
    "\n",
    "### Steps of The Project\n",
    "1. Initialization\n",
    "2. Data Overview\n",
    "3. Model Testing\n",
    "4. Basic Profit Calculation\n",
    "5. Model Function for Profit Calculation\n",
    "6. Profit and Risk Calculation\n",
    "\n",
    "### Data Description\n",
    "Geological exploration data for the three regions is stored in several files:\n",
    "- geo_data_0.csv\n",
    "- geo_data_1.csv\n",
    "- geo_data_2.csv\n",
    "\n",
    "- `id` — Unique ID of the oil well\n",
    "- `f0, f1, f2` — three point features (the specific meaning is not important, but the features themselves are significant)\n",
    "- `product` — volume of oil reserves in the well (thousands of barrels).\n",
    "\n",
    "Condition:\n",
    "- Only linear regression is suitable for model training (the rest are inadequate for prediction).\n",
    "- When exploring the area, a study of 500 points was carried out by selecting the 200 best points for profit calculations.\n",
    "- The budget to develop 200 oil wells is 100 million USD.\n",
    "- One barrel of raw materials generates 4.5 USD in revenue. Income from one unit of product is 4,500 dollars (volume of oil reserves in thousands of barrels).\n",
    "- After evaluating the risks, stick to only areas with a risk of loss lower than 2.5%. From the list of regions that meet the criteria, select the region with the highest average profit.\n",
    "\n",
    "This data is artificial: contract details and well characteristics are not shown."
   ]
  },
  {
   "cell_type": "markdown",
   "metadata": {},
   "source": [
    "## Initialization"
   ]
  },
  {
   "cell_type": "code",
   "execution_count": 1,
   "metadata": {},
   "outputs": [],
   "source": [
    "# import general and machine learning library\n",
    "\n",
    "import pandas as pd\n",
    "import numpy as np\n",
    "\n",
    "from sklearn.tree import DecisionTreeClassifier\n",
    "from sklearn.ensemble import RandomForestClassifier\n",
    "from sklearn.linear_model import LogisticRegression\n",
    "from sklearn.linear_model import LinearRegression\n",
    "\n",
    "from sklearn.model_selection import train_test_split\n",
    "from sklearn.preprocessing import StandardScaler\n",
    "from sklearn.metrics import mean_squared_error"
   ]
  },
  {
   "cell_type": "markdown",
   "metadata": {},
   "source": [
    "## Data Overview"
   ]
  },
  {
   "cell_type": "code",
   "execution_count": 2,
   "metadata": {},
   "outputs": [],
   "source": [
    "data0 = pd.read_csv(r'geo_data_0.csv')\n",
    "data1 = pd.read_csv(r'geo_data_1.csv') \n",
    "data2 = pd.read_csv(r'geo_data_2.csv')"
   ]
  },
  {
   "cell_type": "code",
   "execution_count": 3,
   "metadata": {},
   "outputs": [
    {
     "name": "stdout",
     "output_type": "stream",
     "text": [
      "      id        f0        f1        f2     product\n",
      "0  txEyH  0.705745 -0.497823  1.221170  105.280062\n",
      "1  2acmU  1.334711 -0.340164  4.365080   73.037750\n",
      "2  409Wp  1.022732  0.151990  1.419926   85.265647\n",
      "3  iJLyR -0.032172  0.139033  2.978566  168.620776\n",
      "4  Xdl7t  1.988431  0.155413  4.751769  154.036647\n",
      "---------------------------------------------------\n",
      "      id         f0         f1        f2     product\n",
      "0  kBEdx -15.001348  -8.276000 -0.005876    3.179103\n",
      "1  62mP7  14.272088  -3.475083  0.999183   26.953261\n",
      "2  vyE1P   6.263187  -5.948386  5.001160  134.766305\n",
      "3  KcrkZ -13.081196 -11.506057  4.999415  137.945408\n",
      "4  AHL4O  12.702195  -8.147433  5.004363  134.766305\n",
      "---------------------------------------------------\n",
      "      id        f0        f1        f2     product\n",
      "0  fwXo0 -1.146987  0.963328 -0.828965   27.758673\n",
      "1  WJtFt  0.262778  0.269839 -2.530187   56.069697\n",
      "2  ovLUW  0.194587  0.289035 -5.586433   62.871910\n",
      "3  q6cA6  2.236060 -0.553760  0.930038  114.572842\n",
      "4  WPMUX -0.515993  1.716266  5.899011  149.600746\n"
     ]
    }
   ],
   "source": [
    "print(data0.head())\n",
    "print('---------------------------------------------------')\n",
    "print(data1.head())\n",
    "print('---------------------------------------------------')\n",
    "print(data2.head())"
   ]
  },
  {
   "cell_type": "code",
   "execution_count": 4,
   "metadata": {},
   "outputs": [
    {
     "data": {
      "text/plain": [
       "((100000, 5), (100000, 5), (100000, 5))"
      ]
     },
     "execution_count": 4,
     "metadata": {},
     "output_type": "execute_result"
    }
   ],
   "source": [
    "data0.shape, data1.shape, data2.shape"
   ]
  },
  {
   "cell_type": "code",
   "execution_count": 5,
   "metadata": {},
   "outputs": [
    {
     "name": "stdout",
     "output_type": "stream",
     "text": [
      "<class 'pandas.core.frame.DataFrame'>\n",
      "RangeIndex: 100000 entries, 0 to 99999\n",
      "Data columns (total 5 columns):\n",
      " #   Column   Non-Null Count   Dtype  \n",
      "---  ------   --------------   -----  \n",
      " 0   id       100000 non-null  object \n",
      " 1   f0       100000 non-null  float64\n",
      " 2   f1       100000 non-null  float64\n",
      " 3   f2       100000 non-null  float64\n",
      " 4   product  100000 non-null  float64\n",
      "dtypes: float64(4), object(1)\n",
      "memory usage: 3.8+ MB\n",
      "None\n",
      "///////////////////////////////////////////////\n",
      "<class 'pandas.core.frame.DataFrame'>\n",
      "RangeIndex: 100000 entries, 0 to 99999\n",
      "Data columns (total 5 columns):\n",
      " #   Column   Non-Null Count   Dtype  \n",
      "---  ------   --------------   -----  \n",
      " 0   id       100000 non-null  object \n",
      " 1   f0       100000 non-null  float64\n",
      " 2   f1       100000 non-null  float64\n",
      " 3   f2       100000 non-null  float64\n",
      " 4   product  100000 non-null  float64\n",
      "dtypes: float64(4), object(1)\n",
      "memory usage: 3.8+ MB\n",
      "None\n",
      "///////////////////////////////////////////////\n",
      "<class 'pandas.core.frame.DataFrame'>\n",
      "RangeIndex: 100000 entries, 0 to 99999\n",
      "Data columns (total 5 columns):\n",
      " #   Column   Non-Null Count   Dtype  \n",
      "---  ------   --------------   -----  \n",
      " 0   id       100000 non-null  object \n",
      " 1   f0       100000 non-null  float64\n",
      " 2   f1       100000 non-null  float64\n",
      " 3   f2       100000 non-null  float64\n",
      " 4   product  100000 non-null  float64\n",
      "dtypes: float64(4), object(1)\n",
      "memory usage: 3.8+ MB\n",
      "None\n"
     ]
    }
   ],
   "source": [
    "print(data0.info())\n",
    "print('///////////////////////////////////////////////')\n",
    "print(data1.info())\n",
    "print('///////////////////////////////////////////////')\n",
    "print(data2.info())"
   ]
  },
  {
   "cell_type": "code",
   "execution_count": 6,
   "metadata": {},
   "outputs": [
    {
     "name": "stdout",
     "output_type": "stream",
     "text": [
      "                  f0             f1             f2        product\n",
      "count  100000.000000  100000.000000  100000.000000  100000.000000\n",
      "mean        0.500419       0.250143       2.502647      92.500000\n",
      "std         0.871832       0.504433       3.248248      44.288691\n",
      "min        -1.408605      -0.848218     -12.088328       0.000000\n",
      "25%        -0.072580      -0.200881       0.287748      56.497507\n",
      "50%         0.502360       0.250252       2.515969      91.849972\n",
      "75%         1.073581       0.700646       4.715088     128.564089\n",
      "max         2.362331       1.343769      16.003790     185.364347\n",
      "------------------------------------------------------------------\n",
      "                  f0             f1             f2        product\n",
      "count  100000.000000  100000.000000  100000.000000  100000.000000\n",
      "mean        1.141296      -4.796579       2.494541      68.825000\n",
      "std         8.965932       5.119872       1.703572      45.944423\n",
      "min       -31.609576     -26.358598      -0.018144       0.000000\n",
      "25%        -6.298551      -8.267985       1.000021      26.953261\n",
      "50%         1.153055      -4.813172       2.011479      57.085625\n",
      "75%         8.621015      -1.332816       3.999904     107.813044\n",
      "max        29.421755      18.734063       5.019721     137.945408\n",
      "------------------------------------------------------------------\n",
      "                  f0             f1             f2        product\n",
      "count  100000.000000  100000.000000  100000.000000  100000.000000\n",
      "mean        0.002023      -0.002081       2.495128      95.000000\n",
      "std         1.732045       1.730417       3.473445      44.749921\n",
      "min        -8.760004      -7.084020     -11.970335       0.000000\n",
      "25%        -1.162288      -1.174820       0.130359      59.450441\n",
      "50%         0.009424      -0.009482       2.484236      94.925613\n",
      "75%         1.158535       1.163678       4.858794     130.595027\n",
      "max         7.238262       7.844801      16.739402     190.029838\n"
     ]
    }
   ],
   "source": [
    "print(data0.describe())\n",
    "print('------------------------------------------------------------------')\n",
    "print(data1.describe())\n",
    "print('------------------------------------------------------------------')\n",
    "print(data2.describe())"
   ]
  },
  {
   "cell_type": "markdown",
   "metadata": {},
   "source": [
    "**Findings :**\n",
    "\n",
    "- There are no missing data values or wrong data types\n",
    "- Each data consists of 10,000 rows and 5 columns"
   ]
  },
  {
   "cell_type": "markdown",
   "metadata": {},
   "source": [
    "## Test the Model"
   ]
  },
  {
   "cell_type": "markdown",
   "metadata": {},
   "source": [
    "***Include :***\n",
    "\n",
    "- Separate Training and Validation datam within rasio 75:25\n",
    "- Model train and prediction for validation set\n",
    "- Prediction and correct answer for validation set\n",
    "- Show mean product and RMSE model"
   ]
  },
  {
   "cell_type": "code",
   "execution_count": 7,
   "metadata": {},
   "outputs": [],
   "source": [
    "data_all = [\n",
    "    data0.drop('id', axis=1),\n",
    "    data1.drop('id', axis=1),\n",
    "    data2.drop('id', axis=1),\n",
    "]"
   ]
  },
  {
   "cell_type": "code",
   "execution_count": 8,
   "metadata": {},
   "outputs": [
    {
     "name": "stdout",
     "output_type": "stream",
     "text": [
      "Region 0\n",
      "Mean Target : 92.50000000000001\n",
      "Mean Predict : 92.59256778438035\n",
      "Model RMSE : 37.5794217150813\n",
      "Region 1\n",
      "Mean Target : 68.82500000000002\n",
      "Mean Predict : 68.76995145799754\n",
      "Model RMSE : 0.889736773768065\n",
      "Region 2\n",
      "Mean Target : 95.00000000000004\n",
      "Mean Predict : 95.087528122523\n",
      "Model RMSE : 39.958042459521614\n"
     ]
    }
   ],
   "source": [
    "rs = np.random.RandomState(12345)\n",
    "\n",
    "samples_target = []\n",
    "samples_predictions= []\n",
    "\n",
    "for region in range(len(data_all)):\n",
    "    data = data_all[region]\n",
    "\n",
    "    features = data.drop('product', axis=1)\n",
    "    target = data['product']\n",
    "\n",
    "    features_train, features_valid, target_train, target_valid = train_test_split(features, target, test_size=0.25, random_state=rs)\n",
    "    \n",
    "    model = LinearRegression()\n",
    "    model.fit(features_train, target_train)\n",
    "    predict = model.predict(features_valid)\n",
    "    \n",
    "    samples_target.append(target_valid.reset_index(drop=True))\n",
    "    samples_predictions.append(pd.Series(predict))\n",
    "    \n",
    "    mean_product_target = target.mean()\n",
    "    mean_product_predict = predict.mean()\n",
    "    rmse = mean_squared_error(target_valid, predict)**0.5\n",
    "    \n",
    "    print('Region', region)\n",
    "    print('Mean Target :', mean_product_target)\n",
    "    print('Mean Predict :', mean_product_predict)\n",
    "    print('Model RMSE :', rmse)"
   ]
  },
  {
   "cell_type": "markdown",
   "metadata": {},
   "source": [
    "**Findings :**\n",
    "\n",
    "- The three data above will be combined to make analysis easier\n",
    "- Linear Regression is the model used in this analysis to check the target value and the actual value\n",
    "- From the three data above, it can be concluded that data with region 1 has a low error rate compared to regions 0 and 2 which produce RMSE values that are very far apart."
   ]
  },
  {
   "cell_type": "markdown",
   "metadata": {},
   "source": [
    "## Basic Profit Calculation"
   ]
  },
  {
   "cell_type": "markdown",
   "metadata": {},
   "source": [
    "***Include :***\n",
    " \n",
    "- Key score for different variables\n",
    "- Compare oil reserves"
   ]
  },
  {
   "cell_type": "code",
   "execution_count": 9,
   "metadata": {},
   "outputs": [],
   "source": [
    "sample_point = 500\n",
    "sample_bootstrap = 1000\n",
    "\n",
    "budget = 100000000\n",
    "cost = 500000\n",
    "product_income = 4500\n",
    "points = 200"
   ]
  },
  {
   "cell_type": "code",
   "execution_count": 10,
   "metadata": {},
   "outputs": [
    {
     "name": "stdout",
     "output_type": "stream",
     "text": [
      "Profit : $ 39960489\n"
     ]
    }
   ],
   "source": [
    "sample_region_0 = samples_predictions[0]\n",
    "\n",
    "best_200 = sample_region_0.sort_values(ascending=False)[:200]\n",
    "best_product = best_200.sum()\n",
    "total_income = product_income*best_product\n",
    "profit = total_income-budget\n",
    "print('Profit : $', round(profit))"
   ]
  },
  {
   "cell_type": "markdown",
   "metadata": {},
   "source": [
    "**Findings :**\n",
    "\n",
    "The profits generated from the oil reserves obtained are quite large with several conditions:\n",
    "- Using region 0 as an example\n",
    "- From 500 oil well points, the 200 best points are selected for calculating profits\n",
    "- Generated $39,960,489 which resulted in approximately 40% profit from initial capital"
   ]
  },
  {
   "cell_type": "markdown",
   "metadata": {},
   "source": [
    "## Model Function for Profit Calculation"
   ]
  },
  {
   "cell_type": "markdown",
   "metadata": {},
   "source": [
    "***Include :***\n",
    "- Highest Prediction\n",
    "- Summarize target based on prediction"
   ]
  },
  {
   "cell_type": "code",
   "execution_count": 25,
   "metadata": {},
   "outputs": [],
   "source": [
    "def prediction_profit(predict, name, product_income=4500, budget=100000000, points=200):\n",
    "    prediction = predict[name]\n",
    "    predict_best200 = prediction.sort_values(ascending=False)[:points]\n",
    "    best_of_product = predict_best200.sum()\n",
    "    total_budget = round(budget)\n",
    "    income = round(product_income * best_of_product)\n",
    "    profit = round(income - total_budget)\n",
    "    \n",
    "    print(f'Region : {name}')\n",
    "    print(f'Total Income : {income}')\n",
    "    print(f'Total Budget : {total_budget}')\n",
    "    print(f'Profit : {profit}')"
   ]
  },
  {
   "cell_type": "code",
   "execution_count": 21,
   "metadata": {},
   "outputs": [],
   "source": [
    "def target_profit(target, predict):\n",
    "    sort_predict = predict.sort_values(ascending=False)\n",
    "    selected_points = target[sort_predict.index][:points]\n",
    "    product = selected_points.sum()\n",
    "    revenue = product * product_income\n",
    "    cost = budget\n",
    "    profit = revenue-cost\n",
    "    return profit"
   ]
  },
  {
   "cell_type": "code",
   "execution_count": 26,
   "metadata": {},
   "outputs": [
    {
     "name": "stdout",
     "output_type": "stream",
     "text": [
      "Region : 0\n",
      "Total Income : 139960489\n",
      "Total Budget : 100000000\n",
      "Profit : 39960489\n",
      "Region : 1\n",
      "Total Income : 124873891\n",
      "Total Budget : 100000000\n",
      "Profit : 24873891\n",
      "Region : 2\n",
      "Total Income : 134224063\n",
      "Total Budget : 100000000\n",
      "Profit : 34224063\n"
     ]
    }
   ],
   "source": [
    "prediction_profit(predict=samples_predictions, name=0)\n",
    "prediction_profit(predict=samples_predictions, name=1)\n",
    "prediction_profit(predict=samples_predictions, name=2)"
   ]
  },
  {
   "cell_type": "code",
   "execution_count": 24,
   "metadata": {},
   "outputs": [
    {
     "name": "stdout",
     "output_type": "stream",
     "text": [
      "Profit Region 0: 33208260.43139851\n",
      "Profit Region 1: 24150866.966815114\n",
      "Profit Region 2: 25399159.45842947\n"
     ]
    }
   ],
   "source": [
    "print(\"Profit Region 0:\", target_profit(samples_target[0], samples_predictions[0]))\n",
    "print(\"Profit Region 1:\", target_profit(samples_target[1], samples_predictions[1]))\n",
    "print(\"Profit Region 2:\", target_profit(samples_target[2], samples_predictions[2]))"
   ]
  },
  {
   "cell_type": "markdown",
   "metadata": {},
   "source": [
    "**Findings :**\n",
    "- Region 0 gets the biggest advantage compared to the others from the target value and final value (prediction)\n",
    "- In calculating the target value, region 2 has quite a big difference from the proper value, where the difference reaches approximately 10,000,000, where the difference in other regions is around 6,000,000 in region 0 and 700,000 in region 1\n",
    "- Region 0 is a region that can be considered for further development because it produces quite high profits, followed by region 2 and region 1"
   ]
  },
  {
   "cell_type": "markdown",
   "metadata": {},
   "source": [
    "## Profit and Risk Calculation"
   ]
  },
  {
   "cell_type": "markdown",
   "metadata": {},
   "source": [
    "***Include :***\n",
    "- Bootstraping for profit distribution\n",
    "- Mean profit, and loss risk"
   ]
  },
  {
   "cell_type": "code",
   "execution_count": 15,
   "metadata": {},
   "outputs": [],
   "source": [
    "predict = pd.Series(predict)\n",
    "\n",
    "def bootstrap_profit(predict, name, product_income=4500, budget=100000000, points=200):\n",
    "    predict_best200 = predict.sort_values(ascending=False)[:points]\n",
    "    best_product = predict_best200.sum()\n",
    "    total_budget = budget\n",
    "    total_income = product_income * best_product\n",
    "    profit = total_income - total_budget\n",
    "    return profit"
   ]
  },
  {
   "cell_type": "code",
   "execution_count": 16,
   "metadata": {},
   "outputs": [],
   "source": [
    "def profit(target, predict):\n",
    "    sort_predict = predict.sort_values(ascending=False)\n",
    "    selected_points = target[sort_predict.index][:points]\n",
    "    product = selected_points.sum()\n",
    "    revenue = product * product_income\n",
    "    cost = budget\n",
    "    profit = revenue - cost\n",
    "    return profit"
   ]
  },
  {
   "cell_type": "code",
   "execution_count": 17,
   "metadata": {},
   "outputs": [
    {
     "name": "stdout",
     "output_type": "stream",
     "text": [
      "Region 0\n",
      "Mean Profit : 2832358.6371044866 USD\n",
      "Confidence Interval (95%) : (954186.401231312, 4721774.128740624)\n",
      "Risk of Loss : 0.002 %\n",
      "Region 1\n",
      "Mean Profit : 2863384.024266842 USD\n",
      "Confidence Interval (95%) : (852630.2807096888, 4869479.598859357)\n",
      "Risk of Loss : 0.002 %\n",
      "Region 2\n",
      "Mean Profit : 2852822.3719312106 USD\n",
      "Confidence Interval (95%) : (925963.4941324021, 4786743.6800649315)\n",
      "Risk of Loss : 0.002 %\n"
     ]
    }
   ],
   "source": [
    "for region in range(3):\n",
    "    \n",
    "    target = samples_target[region]\n",
    "    predictions = samples_predictions[region]\n",
    "    \n",
    "    profit_values = []\n",
    "    \n",
    "    for i in range(sample_bootstrap):\n",
    "        sample_target = target.sample(sample_point, replace=True, random_state=rs)\n",
    "        sample_predictions = predict[sample_target.index]\n",
    "        profit_values.append(bootstrap_profit(predict=sample_predictions, name=region))\n",
    "        \n",
    "    profit_values = pd.Series(profit_values)\n",
    "    mean_profit = profit_values.mean()\n",
    "    confidence_interval = (profit_values.quantile(0.025), profit_values.quantile(0.975))\n",
    "    loss_risk = (profit_values < 0).mean()\n",
    "    \n",
    "    print('Region', region)\n",
    "    print('Mean Profit :', mean_profit, 'USD')\n",
    "    print('Confidence Interval (95%) :', confidence_interval)\n",
    "    print('Risk of Loss :', loss_risk, '%')"
   ]
  },
  {
   "cell_type": "code",
   "execution_count": 18,
   "metadata": {},
   "outputs": [
    {
     "name": "stdout",
     "output_type": "stream",
     "text": [
      "Region 0\n",
      "Mean Profit : -17525408.48674446 USD\n",
      "Confidence Interval (95%) : (-23365818.813181605, -11655551.705542097)\n",
      "Risk of Loss : 1.0 %\n",
      "Region 1\n",
      "Mean Profit : -37620266.894872464 USD\n",
      "Confidence Interval (95%) : (-43376475.19191398, -31941735.61546329)\n",
      "Risk of Loss : 1.0 %\n",
      "Region 2\n",
      "Mean Profit : 3646019.9108492387 USD\n",
      "Confidence Interval (95%) : (-1619638.6069313644, 9295097.313283822)\n",
      "Risk of Loss : 0.097 %\n"
     ]
    }
   ],
   "source": [
    "for region in range(3):\n",
    "    \n",
    "    target = samples_target[region]\n",
    "    predictions = samples_predictions[region]\n",
    "    \n",
    "    profit_values = []\n",
    "    \n",
    "    for i in range(sample_bootstrap):\n",
    "        sample_target = target.sample(sample_point, replace=True, random_state=rs)\n",
    "        sample_predictions = predict[sample_target.index]\n",
    "        profit_values.append(profit(sample_target, sample_predictions))\n",
    "        \n",
    "    profit_values = pd.Series(profit_values)\n",
    "    mean_profit = profit_values.mean()\n",
    "    confidence_interval = (profit_values.quantile(0.025), profit_values.quantile(0.975))\n",
    "    loss_risk = (profit_values < 0).mean()\n",
    "    \n",
    "    print('Region', region)\n",
    "    print('Mean Profit :', mean_profit, 'USD')\n",
    "    print('Confidence Interval (95%) :', confidence_interval)\n",
    "    print('Risk of Loss :', loss_risk, '%')"
   ]
  },
  {
   "cell_type": "markdown",
   "metadata": {},
   "source": [
    "**Findings :**\n",
    "\n",
    "Calculating the distribution of profits and risks is very necessary, in order to maximize profits for the company, therefore the following results are obtained:\n",
    "- For region 0 1 2, the average profit value is almost the same as the bootstrap calculation and the 95% confidence interval, the average profit obtained is around 2.8 million dollars\n",
    "- The resulting risk is the same for all three regions, at 0.02%, which is a very small number for a risk, even though the profit is small when compared to the initial capital\n",
    "- But in calculating the target value, only region 2 shows a profit, where the other regions only show a loss\n",
    "- The results of the target value in region 2 produce a profit of $3,646,019 with a risk of only 0.097%, this proves that region 2 can be considered for development, seen from the target calculations and predictions which both show absolute profits"
   ]
  }
 ],
 "metadata": {
  "kernelspec": {
   "display_name": "Python 3 (ipykernel)",
   "language": "python",
   "name": "python3"
  },
  "language_info": {
   "codemirror_mode": {
    "name": "ipython",
    "version": 3
   },
   "file_extension": ".py",
   "mimetype": "text/x-python",
   "name": "python",
   "nbconvert_exporter": "python",
   "pygments_lexer": "ipython3",
   "version": "3.9.5"
  },
  "toc": {
   "base_numbering": 1,
   "nav_menu": {},
   "number_sections": true,
   "sideBar": true,
   "skip_h1_title": true,
   "title_cell": "Table of Contents",
   "title_sidebar": "Contents",
   "toc_cell": false,
   "toc_position": {},
   "toc_section_display": true,
   "toc_window_display": false
  }
 },
 "nbformat": 4,
 "nbformat_minor": 2
}
